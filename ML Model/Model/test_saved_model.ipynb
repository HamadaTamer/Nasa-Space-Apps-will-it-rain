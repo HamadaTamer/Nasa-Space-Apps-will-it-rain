{
 "cells": [
  {
   "cell_type": "code",
   "execution_count": 28,
   "id": "cb3275cd",
   "metadata": {},
   "outputs": [],
   "source": [
    "from tensorflow.keras.models import load_model\n",
    "import joblib\n",
    "import pickle\n",
    "import numpy as np\n",
    "import json\n",
    "import pandas as pd"
   ]
  },
  {
   "cell_type": "code",
   "execution_count": 2,
   "id": "4bd1c1b3",
   "metadata": {},
   "outputs": [],
   "source": [
    "def load_weather_model():\n",
    "    \"\"\"Load the trained weather prediction model and all preprocessing objects\"\"\"\n",
    "    \n",
    "    # Load model - .keras format\n",
    "    model = load_model('weather_prediction_model.keras')\n",
    "    print(\"Model loaded successfully from .keras format\")\n",
    "    \n",
    "    # Load scaler\n",
    "    scaler = joblib.load('scaler.pkl')\n",
    "    print(\"Scaler loaded successfully\")\n",
    "    \n",
    "    # Load label encoder\n",
    "    with open('label_encoder.pkl', 'rb') as f:\n",
    "        le = pickle.load(f)\n",
    "    print(\"Label encoder loaded successfully\")\n",
    "    \n",
    "    # Load metadata (if you saved it)\n",
    "    try:\n",
    "        with open('model_metadata.json', 'r') as f:\n",
    "            metadata = json.load(f)\n",
    "        print(\"Metadata loaded successfully\")\n",
    "    except FileNotFoundError:\n",
    "        metadata = None\n",
    "        print(\"Error: No metadata file found\")\n",
    "    \n",
    "    return model, scaler, le, metadata"
   ]
  },
  {
   "cell_type": "code",
   "execution_count": 27,
   "id": "4fae05e8",
   "metadata": {},
   "outputs": [
    {
     "name": "stdout",
     "output_type": "stream",
     "text": [
      "Testing .keras model loading...\n",
      "Model loaded successfully from .keras format\n",
      "Scaler loaded successfully\n",
      "Label encoder loaded successfully\n",
      "Error: No metadata file found\n",
      "\n",
      "Test Prediction Results:\n",
      "1. Humidity: 69.24\n",
      "2. Temperature: 13.58°C\n",
      "3. Wind Speed: 2.76\n",
      "4. Rain: Light Rain\n",
      "5. Rain Confidence: 94.67%\n"
     ]
    },
    {
     "name": "stderr",
     "output_type": "stream",
     "text": [
      "c:\\Users\\basel\\anaconda3\\Lib\\site-packages\\keras\\src\\saving\\saving_lib.py:797: UserWarning: Skipping variable loading for optimizer 'rmsprop', because it has 18 variables whereas the saved optimizer has 34 variables. \n",
      "  saveable.load_own_variables(weights_store.get(inner_path))\n",
      "c:\\Users\\basel\\anaconda3\\Lib\\site-packages\\sklearn\\utils\\validation.py:2739: UserWarning: X does not have valid feature names, but StandardScaler was fitted with feature names\n",
      "  warnings.warn(\n"
     ]
    }
   ],
   "source": [
    "print(\"Testing .keras model loading...\")\n",
    "\n",
    "# Load everything\n",
    "model, scaler, le, metadata = load_weather_model()\n",
    "\n",
    "# Make a test prediction\n",
    "test_input = np.array([[2026, 29.98, 31.23, 2]])\n",
    "test_scaled = scaler.transform(test_input)\n",
    "\n",
    "predictions = model.predict(test_scaled, verbose=0)\n",
    "humidity_pred, temperature_pred, wind_speed_pred, rain_pred = predictions\n",
    "\n",
    "rain_class_idx = np.argmax(rain_pred[0])\n",
    "rain_class = le.inverse_transform([rain_class_idx])[0]\n",
    "\n",
    "print(f\"\\nTest Prediction Results:\")\n",
    "print(f\"1. Humidity: {humidity_pred[0][0]:.2f}\")\n",
    "print(f\"2. Temperature: {temperature_pred[0][0]:.2f}°C\")\n",
    "print(f\"3. Wind Speed: {wind_speed_pred[0][0]:.2f}\")\n",
    "print(f\"4. Rain: {rain_class}\")\n",
    "print(f\"5. Rain Confidence: {rain_pred[0][rain_class_idx]:.2%}\")\n"
   ]
  }
 ],
 "metadata": {
  "kernelspec": {
   "display_name": "base",
   "language": "python",
   "name": "python3"
  },
  "language_info": {
   "codemirror_mode": {
    "name": "ipython",
    "version": 3
   },
   "file_extension": ".py",
   "mimetype": "text/x-python",
   "name": "python",
   "nbconvert_exporter": "python",
   "pygments_lexer": "ipython3",
   "version": "3.13.5"
  }
 },
 "nbformat": 4,
 "nbformat_minor": 5
}
